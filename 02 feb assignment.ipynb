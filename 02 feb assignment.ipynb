{
 "cells": [
  {
   "cell_type": "code",
   "execution_count": 2,
   "id": "7491e8b7",
   "metadata": {},
   "outputs": [
    {
     "name": "stdout",
     "output_type": "stream",
     "text": [
      "The number is 1\n",
      "The number is 2\n",
      "The number is 3\n",
      "The number is 4\n",
      "The number is 5\n"
     ]
    }
   ],
   "source": [
    "# 1. A for loop is used when the number of iterations is known beforehand or when iterating over a sequence like a list, tuple, string, or range.\n",
    "# Example: Iterating over a list of numbers\n",
    "numbers = [1, 2, 3, 4, 5]\n",
    "for num in numbers:\n",
    "    print(f\"The number is {num}\")\n"
   ]
  },
  {
   "cell_type": "code",
   "execution_count": 3,
   "id": "b23f3496",
   "metadata": {},
   "outputs": [
    {
     "name": "stdout",
     "output_type": "stream",
     "text": [
      "Counter is 0\n",
      "Counter is 1\n",
      "Counter is 2\n",
      "Counter is 3\n",
      "Counter is 4\n"
     ]
    }
   ],
   "source": [
    "# A while loop is used when the number of iterations is not known in advance and depends on a condition being true.\n",
    "# Example: Counting until a condition is met\n",
    "counter = 0\n",
    "while counter < 5:\n",
    "    print(f\"Counter is {counter}\")\n",
    "    counter += 1\n"
   ]
  },
  {
   "cell_type": "code",
   "execution_count": 5,
   "id": "4ce5d1b8",
   "metadata": {},
   "outputs": [
    {
     "name": "stdout",
     "output_type": "stream",
     "text": [
      "Using for loop:\n",
      "Sum of first 10 natural numbers: 55\n",
      "Product of first 10 natural numbers: 3628800\n"
     ]
    }
   ],
   "source": [
    "# 2. \n",
    "# Using for loop\n",
    "sum_for = 0\n",
    "product_for = 1\n",
    "\n",
    "for i in range(1, 11):  # First 10 natural numbers: 1 to 10\n",
    "    sum_for += i\n",
    "    product_for *= i\n",
    "\n",
    "print(\"Using for loop:\")\n",
    "print(f\"Sum of first 10 natural numbers: {sum_for}\")\n",
    "print(f\"Product of first 10 natural numbers: {product_for}\")\n"
   ]
  },
  {
   "cell_type": "code",
   "execution_count": 6,
   "id": "85979993",
   "metadata": {},
   "outputs": [
    {
     "name": "stdout",
     "output_type": "stream",
     "text": [
      "\n",
      "Using while loop:\n",
      "Sum of first 10 natural numbers: 55\n",
      "Product of first 10 natural numbers: 3628800\n"
     ]
    }
   ],
   "source": [
    "# Using while loop\n",
    "sum_while = 0\n",
    "product_while = 1\n",
    "i = 1\n",
    "\n",
    "while i <= 10:  # First 10 natural numbers: 1 to 10\n",
    "    sum_while += i\n",
    "    product_while *= i\n",
    "    i += 1\n",
    "\n",
    "print(\"\\nUsing while loop:\")\n",
    "print(f\"Sum of first 10 natural numbers: {sum_while}\")\n",
    "print(f\"Product of first 10 natural numbers: {product_while}\")\n"
   ]
  },
  {
   "cell_type": "code",
   "execution_count": 7,
   "id": "c0c98ca1",
   "metadata": {},
   "outputs": [
    {
     "name": "stdout",
     "output_type": "stream",
     "text": [
      "Enter the number of units consumed: 310\n",
      "Total Electricity Bill: ₹2250.00\n"
     ]
    }
   ],
   "source": [
    "# 3.\n",
    "def calculate_electricity_bill(units):\n",
    "    # Initialize the total bill amount\n",
    "    bill = 0\n",
    "\n",
    "    # Compute the bill based on unit ranges\n",
    "    if units <= 100:\n",
    "        bill = units * 4.5\n",
    "    elif units <= 200:\n",
    "        bill = (100 * 4.5) + (units - 100) * 6\n",
    "    elif units <= 300:\n",
    "        bill = (100 * 4.5) + (100 * 6) + (units - 200) * 10\n",
    "    else:\n",
    "        bill = (100 * 4.5) + (100 * 6) + (100 * 10) + (units - 300) * 20\n",
    "\n",
    "    return bill\n",
    "\n",
    "# Input: Units consumed\n",
    "units = int(input(\"Enter the number of units consumed: \"))\n",
    "\n",
    "# Calculate and display the bill\n",
    "bill = calculate_electricity_bill(units)\n",
    "print(f\"Total Electricity Bill: ₹{bill:.2f}\")\n"
   ]
  },
  {
   "cell_type": "code",
   "execution_count": 8,
   "id": "ced3ad50",
   "metadata": {},
   "outputs": [
    {
     "name": "stdout",
     "output_type": "stream",
     "text": [
      "Numbers (using for loop): [2, 4, 5, 6, 8, 10, 12, 14, 15, 16, 18, 20, 22, 24, 25, 26, 28, 30, 32, 34, 35, 36, 38, 40, 42, 44, 45, 46, 48, 50, 52, 54, 55, 56, 58, 60, 62, 64, 65, 66, 68, 70, 72, 74, 75, 76, 78, 80, 82, 84, 85, 86, 88, 90, 92, 94, 95, 96, 98, 100]\n"
     ]
    }
   ],
   "source": [
    "# 4.\n",
    "# List to store numbers whose cubes are divisible by 4 or 5\n",
    "result_for = []\n",
    "\n",
    "# Using for loop to iterate through numbers 1 to 100\n",
    "for num in range(1, 101):\n",
    "    cube = num ** 3\n",
    "    if cube % 4 == 0 or cube % 5 == 0:\n",
    "        result_for.append(num)\n",
    "\n",
    "print(\"Numbers (using for loop):\", result_for)\n"
   ]
  },
  {
   "cell_type": "code",
   "execution_count": 9,
   "id": "9cb4ee12",
   "metadata": {},
   "outputs": [
    {
     "name": "stdout",
     "output_type": "stream",
     "text": [
      "Numbers (using while loop): [2, 4, 5, 6, 8, 10, 12, 14, 15, 16, 18, 20, 22, 24, 25, 26, 28, 30, 32, 34, 35, 36, 38, 40, 42, 44, 45, 46, 48, 50, 52, 54, 55, 56, 58, 60, 62, 64, 65, 66, 68, 70, 72, 74, 75, 76, 78, 80, 82, 84, 85, 86, 88, 90, 92, 94, 95, 96, 98, 100]\n"
     ]
    }
   ],
   "source": [
    "# List to store numbers whose cubes are divisible by 4 or 5\n",
    "result_while = []\n",
    "\n",
    "# Using while loop to iterate through numbers 1 to 100\n",
    "num = 1\n",
    "while num <= 100:\n",
    "    cube = num ** 3\n",
    "    if cube % 4 == 0 or cube % 5 == 0:\n",
    "        result_while.append(num)\n",
    "    num += 1\n",
    "\n",
    "print(\"Numbers (using while loop):\", result_while)\n"
   ]
  },
  {
   "cell_type": "code",
   "execution_count": 11,
   "id": "14505b6e",
   "metadata": {},
   "outputs": [
    {
     "name": "stdout",
     "output_type": "stream",
     "text": [
      "Total number of vowels in the string: 12\n"
     ]
    }
   ],
   "source": [
    "# 5.\n",
    "# Input string\n",
    "string = \"I want to become a data scientist\"\n",
    "\n",
    "# Convert the string to lowercase for uniformity\n",
    "string_lower = string.lower()\n",
    "\n",
    "# Define the set of vowels\n",
    "vowels = \"aeiou\"\n",
    "\n",
    "# Initialize a counter for vowels\n",
    "vowel_count = 0\n",
    "\n",
    "# Iterate through each character in the string and count vowels\n",
    "for char in string_lower:\n",
    "    if char in vowels:\n",
    "        vowel_count += 1\n",
    "\n",
    "print(f\"Total number of vowels in the string: {vowel_count}\")\n"
   ]
  },
  {
   "cell_type": "code",
   "execution_count": null,
   "id": "c09951de",
   "metadata": {},
   "outputs": [],
   "source": []
  }
 ],
 "metadata": {
  "kernelspec": {
   "display_name": "Python 3 (ipykernel)",
   "language": "python",
   "name": "python3"
  },
  "language_info": {
   "codemirror_mode": {
    "name": "ipython",
    "version": 3
   },
   "file_extension": ".py",
   "mimetype": "text/x-python",
   "name": "python",
   "nbconvert_exporter": "python",
   "pygments_lexer": "ipython3",
   "version": "3.11.4"
  }
 },
 "nbformat": 4,
 "nbformat_minor": 5
}
